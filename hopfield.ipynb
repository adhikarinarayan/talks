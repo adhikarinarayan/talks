{
  "nbformat": 4,
  "nbformat_minor": 0,
  "metadata": {
    "colab": {
      "provenance": []
    },
    "kernelspec": {
      "name": "python3",
      "display_name": "Python 3"
    },
    "language_info": {
      "name": "python"
    }
  },
  "cells": [
    {
      "cell_type": "markdown",
      "source": [
        "#Hopfield Networks"
      ],
      "metadata": {
        "id": "HZuprszuVHuA"
      }
    },
    {
      "cell_type": "markdown",
      "source": [
        "Let us first create a class for Hopfield networks"
      ],
      "metadata": {
        "id": "JQ_4VT3qVDR3"
      }
    },
    {
      "cell_type": "code",
      "source": [
        "import numpy as np\n",
        "import matplotlib.pyplot as plt\n",
        "\n",
        "class HopfieldNetwork:\n",
        "    def __init__(self, num_neurons):\n",
        "        self.num_neurons = num_neurons\n",
        "        self.weights = np.zeros((num_neurons, num_neurons))\n",
        "\n",
        "    def train(self, patterns):\n",
        "        for pattern in patterns:\n",
        "            pattern = np.array(pattern).reshape(self.num_neurons, 1)\n",
        "            self.weights += np.dot(pattern, pattern.T)\n",
        "        np.fill_diagonal(self.weights, 0)  # No self-connections\n",
        "        self.weights /= self.num_neurons\n",
        "\n",
        "    def retrieve(self, pattern, max_iterations=10, threshold=0):\n",
        "        pattern = np.array(pattern).reshape(self.num_neurons, 1)\n",
        "        energy_history = [] # to save the energy at each step\n",
        "        for _ in range(max_iterations):\n",
        "            new_pattern = np.sign(np.dot(self.weights, pattern))\n",
        "            energy = -0.5 * np.dot(pattern.T, np.dot(self.weights, pattern))[0, 0]\n",
        "            energy_history.append(energy)\n",
        "            if np.array_equal(new_pattern, pattern):\n",
        "                break\n",
        "            pattern = new_pattern\n",
        "        return pattern.flatten(), energy_history"
      ],
      "metadata": {
        "id": "SEkrw2BcTnrV"
      },
      "execution_count": 77,
      "outputs": []
    },
    {
      "cell_type": "markdown",
      "source": [
        "## Examples\n",
        "\n",
        "---\n",
        "\n",
        "For example we take two patterns T and I. Then we will add some noise close to T and try to retrive T using hopfield networks"
      ],
      "metadata": {
        "id": "18KdWhRjVLyf"
      }
    },
    {
      "cell_type": "code",
      "source": [
        "pattern_1 = np.array([1, 1, 1, -1, 1, -1, -1, 1, -1])\n",
        "pattern_2 = np.array([-1, 1, -1, -1, 1, -1, -1, 1, -1])\n",
        "noisy_pattern = np.array([1, -1, 1, -1, 1, -1, -1, 1, -1])"
      ],
      "metadata": {
        "id": "pQ3j3l4_VdqI"
      },
      "execution_count": 119,
      "outputs": []
    },
    {
      "cell_type": "code",
      "source": [
        "f, ax = plt.subplots(1,3)\n",
        "ax[0].imshow(pattern_1.reshape(3,3),cmap='binary');\n",
        "ax[1].imshow(pattern_2.reshape(3,3),cmap='binary');\n",
        "ax[2].imshow(noisy_pattern.reshape(3,3),cmap='binary');\n",
        "ax[0].set_title(\"Pattern 1\");\n",
        "ax[2].set_title(\"Noisy Pattern\");\n",
        "ax[1].set_title(\"Pattern 2\");\n"
      ],
      "metadata": {
        "colab": {
          "base_uri": "https://localhost:8080/",
          "height": 228
        },
        "id": "fdvmbAXzbHTD",
        "outputId": "8bf16c26-3dbc-477e-bd6c-9968961486f6"
      },
      "execution_count": 120,
      "outputs": [
        {
          "output_type": "display_data",
          "data": {
            "text/plain": [
              "<Figure size 640x480 with 3 Axes>"
            ],
            "image/png": "[encoded data removed]"
          },
          "metadata": {}
        }
      ]
    },
    {
      "cell_type": "markdown",
      "source": [
        "## Learning"
      ],
      "metadata": {
        "id": "eCe1mkXpbxhS"
      }
    },
    {
      "cell_type": "code",
      "source": [
        "# Example patterns\n",
        "patterns = [ pattern_1,pattern_2]\n",
        "network = HopfieldNetwork(9) #number of neurons\n",
        "network.train(patterns)"
      ],
      "metadata": {
        "id": "jI1NXPOCTTnA"
      },
      "execution_count": 86,
      "outputs": []
    },
    {
      "cell_type": "markdown",
      "source": [
        "## Retrieveal"
      ],
      "metadata": {
        "id": "6i_nX15bb3qx"
      }
    },
    {
      "cell_type": "code",
      "source": [
        "#Test retrieval with a noisy 'L' pattern\n",
        "noisy_pattern = noisy_pattern\n",
        "# retreve the pattern\n",
        "retrieved_pattern, energy_history = network.retrieve(noisy_pattern)"
      ],
      "metadata": {
        "id": "UAeAlGB6b2Kb"
      },
      "execution_count": null,
      "outputs": []
    },
    {
      "cell_type": "code",
      "source": [
        "f, ax = plt.subplots(1,2)\n",
        "ax[0].imshow(noisy_pattern.reshape(3,3),cmap='binary');\n",
        "ax[1].imshow(retrieved_pattern.reshape(3,3),cmap='binary');\n",
        "ax[0].set_title(\"Noisy Pattern\");\n",
        "ax[1].set_title(\"Retrieved Pattern\");\n"
      ],
      "metadata": {
        "colab": {
          "base_uri": "https://localhost:8080/",
          "height": 308
        },
        "id": "lTaed7fmYg36",
        "outputId": "770d4c8c-15d9-4049-827a-bc94f7364586"
      },
      "execution_count": 122,
      "outputs": [
        {
          "output_type": "display_data",
          "data": {
            "text/plain": [
              "<Figure size 640x480 with 2 Axes>"
            ],
            "image/png": "[encoded data removed]"
          },
          "metadata": {}
        }
      ]
    }
  ]
}